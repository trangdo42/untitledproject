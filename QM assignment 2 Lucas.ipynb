{
 "cells": [
  {
   "cell_type": "code",
   "execution_count": 1,
   "metadata": {},
   "outputs": [],
   "source": [
    "import numpy as np\n",
    "import matplotlib.pyplot as plt\n",
    "import pandas as pd\n",
    "import time\n",
    "from scipy import sparse\n",
    "from scipy.sparse import csr_matrix\n",
    "from sklearn.model_selection import train_test_split"
   ]
  },
  {
   "cell_type": "code",
   "execution_count": 2,
   "metadata": {},
   "outputs": [
    {
     "data": {
      "text/html": [
       "<div>\n",
       "<style scoped>\n",
       "    .dataframe tbody tr th:only-of-type {\n",
       "        vertical-align: middle;\n",
       "    }\n",
       "\n",
       "    .dataframe tbody tr th {\n",
       "        vertical-align: top;\n",
       "    }\n",
       "\n",
       "    .dataframe thead th {\n",
       "        text-align: right;\n",
       "    }\n",
       "</style>\n",
       "<table border=\"1\" class=\"dataframe\">\n",
       "  <thead>\n",
       "    <tr style=\"text-align: right;\">\n",
       "      <th></th>\n",
       "      <th>userid</th>\n",
       "      <th>movieid</th>\n",
       "      <th>rating</th>\n",
       "      <th>title</th>\n",
       "    </tr>\n",
       "  </thead>\n",
       "  <tbody>\n",
       "    <tr>\n",
       "      <th>0</th>\n",
       "      <td>55889</td>\n",
       "      <td>1</td>\n",
       "      <td>3.5</td>\n",
       "      <td>Toy Story (1995)</td>\n",
       "    </tr>\n",
       "    <tr>\n",
       "      <th>1</th>\n",
       "      <td>64965</td>\n",
       "      <td>1</td>\n",
       "      <td>4.5</td>\n",
       "      <td>Toy Story (1995)</td>\n",
       "    </tr>\n",
       "    <tr>\n",
       "      <th>2</th>\n",
       "      <td>61730</td>\n",
       "      <td>1</td>\n",
       "      <td>3.0</td>\n",
       "      <td>Toy Story (1995)</td>\n",
       "    </tr>\n",
       "    <tr>\n",
       "      <th>3</th>\n",
       "      <td>68941</td>\n",
       "      <td>1</td>\n",
       "      <td>5.0</td>\n",
       "      <td>Toy Story (1995)</td>\n",
       "    </tr>\n",
       "    <tr>\n",
       "      <th>4</th>\n",
       "      <td>34902</td>\n",
       "      <td>1</td>\n",
       "      <td>5.0</td>\n",
       "      <td>Toy Story (1995)</td>\n",
       "    </tr>\n",
       "  </tbody>\n",
       "</table>\n",
       "</div>"
      ],
      "text/plain": [
       "   userid  movieid  rating             title\n",
       "0   55889        1     3.5  Toy Story (1995)\n",
       "1   64965        1     4.5  Toy Story (1995)\n",
       "2   61730        1     3.0  Toy Story (1995)\n",
       "3   68941        1     5.0  Toy Story (1995)\n",
       "4   34902        1     5.0  Toy Story (1995)"
      ]
     },
     "execution_count": 2,
     "metadata": {},
     "output_type": "execute_result"
    }
   ],
   "source": [
    "df = pd.read_stata('Dataset_merged.dta').drop(columns=['timestamp', '_merge']).dropna()\n",
    "df['userid'] = df['userid'].astype(int)\n",
    "df.dtypes\n",
    "df.head()"
   ]
  },
  {
   "cell_type": "code",
   "execution_count": 3,
   "metadata": {},
   "outputs": [],
   "source": [
    "df_train, df_test = train_test_split(df, test_size=0.3, random_state=0)\n",
    "#train\n",
    "df_movie_features1 = df_train.pivot(\n",
    "    index='movieid',\n",
    "    columns='userid',\n",
    "    values='rating'\n",
    ").fillna(0)\n",
    "#Test\n",
    "df_movie_features2 = df_test.pivot(\n",
    "    index='movieid',\n",
    "    columns='userid',\n",
    "    values='rating'\n",
    ").fillna(0)\n"
   ]
  },
  {
   "cell_type": "code",
   "execution_count": null,
   "metadata": {},
   "outputs": [],
   "source": [
    "#Standardizing\n",
    "#Train\n",
    "piv_norm_train = df_movie_features1.apply(lambda x: (x-np.mean(x))/(np.max(x)-np.min(x)), axis=1)\n",
    "# Drop all columns containing only zeros representing users who did not rate\n",
    "piv_norm_train.fillna(0, inplace=True)\n",
    "piv_norm_train = piv_norm_train.T\n",
    "piv_norm_train = piv_norm_train.loc[:, (piv_norm_train != 0).any(axis=0)]"
   ]
  },
  {
   "cell_type": "code",
   "execution_count": null,
   "metadata": {},
   "outputs": [],
   "source": [
    "#Standardizing\n",
    "#Test\n",
    "piv_norm_test = df_movie_features2.apply(lambda x: (x-np.mean(x))/(np.max(x)-np.min(x)), axis=1)\n",
    "# Drop all columns containing only zeros representing users who did not rate\n",
    "piv_norm_test.fillna(0, inplace=True)\n",
    "piv_norm_test = piv_norm_test.T\n",
    "piv_norm_test = piv_norm_test.loc[:, (piv_norm_test != 0).any(axis=0)]"
   ]
  },
  {
   "cell_type": "code",
   "execution_count": null,
   "metadata": {},
   "outputs": [],
   "source": [
    "#Sparse Matrices\n",
    "piv_train_sparse = sp.sparse.csr_matrix(piv_norm_train.values)\n",
    "piv_test_sparse = sp.sparse.csr_matrix(piv_norm_test.values)"
   ]
  },
  {
   "cell_type": "code",
   "execution_count": null,
   "metadata": {},
   "outputs": [],
   "source": [
    "#Calculating Similarities\n",
    "#Train\n",
    "user_similarity_train = cosine_similarity(piv_train_sparse)\n",
    "item_similarity_train = cosine_similarity(piv_train_sparse.T)\n",
    "\n",
    "#Test\n",
    "user_similarity_test = cosine_similarity(piv_test_sparse)\n",
    "item_similarity_test = cosine_similarity(piv_test_sparse.T)"
   ]
  },
  {
   "cell_type": "code",
   "execution_count": null,
   "metadata": {},
   "outputs": [],
   "source": [
    "#Train\n",
    "item_train_sim_df = pd.DataFrame(item_similarity_train, index = piv_norm_train.index, columns = piv_norm_train.index)\n",
    "user_train_sim_df = pd.DataFrame(user_similarity_train, index = piv_norm_train.columns, columns = piv_norm_train.columns)\n",
    "\n",
    "#Test\n",
    "item_test_sim_df = pd.DataFrame(item_similarity_test, index = piv_norm_test.index, columns = piv_norm_test.index)\n",
    "user_test_sim_df = pd.DataFrame(user_similarity_test, index = piv_norm_test.columns, columns = piv_norm_test.columns)"
   ]
  },
  {
   "cell_type": "code",
   "execution_count": null,
   "metadata": {},
   "outputs": [],
   "source": []
  }
 ],
 "metadata": {
  "kernelspec": {
   "display_name": "Python 3",
   "language": "python",
   "name": "python3"
  },
  "language_info": {
   "codemirror_mode": {
    "name": "ipython",
    "version": 3
   },
   "file_extension": ".py",
   "mimetype": "text/x-python",
   "name": "python",
   "nbconvert_exporter": "python",
   "pygments_lexer": "ipython3",
   "version": "3.6.5"
  }
 },
 "nbformat": 4,
 "nbformat_minor": 2
}
